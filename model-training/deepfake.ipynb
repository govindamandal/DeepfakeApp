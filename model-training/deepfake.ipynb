{
 "cells": [
  {
   "cell_type": "code",
   "execution_count": 1,
   "metadata": {},
   "outputs": [
    {
     "name": "stderr",
     "output_type": "stream",
     "text": [
      "C:\\Users\\govinda\\AppData\\Roaming\\Python\\Python312\\site-packages\\tqdm\\auto.py:21: TqdmWarning: IProgress not found. Please update jupyter and ipywidgets. See https://ipywidgets.readthedocs.io/en/stable/user_install.html\n",
      "  from .autonotebook import tqdm as notebook_tqdm\n"
     ]
    }
   ],
   "source": [
    "import os\n",
    "import cv2\n",
    "import torch\n",
    "from torchvision import transforms\n",
    "from torch.utils.data import Dataset, DataLoader\n",
    "from transformers import ViTFeatureExtractor, ViTForImageClassification\n",
    "\n",
    "# Plotting Result\n",
    "import matplotlib.pyplot as plt\n",
    "import pandas as pd"
   ]
  },
  {
   "cell_type": "code",
   "execution_count": 2,
   "metadata": {},
   "outputs": [],
   "source": [
    "# Define a custom dataset class\n",
    "class VideoFrameDataset(Dataset):\n",
    "    def __init__(self, root_dir, transform=None):\n",
    "        self.root_dir = root_dir\n",
    "        self.transform = transform\n",
    "        self.frames = []\n",
    "        self.labels = []\n",
    "\n",
    "        # Load data paths and labels\n",
    "        for label, category in enumerate(['original', 'altered']):\n",
    "            category_dir = os.path.join(root_dir, category)\n",
    "            for video_file in os.listdir(category_dir):\n",
    "                video_path = os.path.join(category_dir, video_file)\n",
    "                self.frames.append(video_path)\n",
    "                self.labels.append(label)\n",
    "\n",
    "    def __len__(self):\n",
    "        return len(self.frames)\n",
    "\n",
    "    def __getitem__(self, idx):\n",
    "        # Load video frame\n",
    "        video_path = self.frames[idx]\n",
    "        cap = cv2.VideoCapture(video_path)\n",
    "        ret, frame = cap.read()\n",
    "        cap.release()\n",
    "\n",
    "        if not ret:\n",
    "            raise ValueError(f\"Unable to read frame from {video_path}\")\n",
    "\n",
    "        # Convert BGR to RGB\n",
    "        frame = cv2.cvtColor(frame, cv2.COLOR_BGR2RGB)\n",
    "\n",
    "        # Apply transformations\n",
    "        if self.transform:\n",
    "            frame = self.transform(frame)\n",
    "\n",
    "        label = self.labels[idx]\n",
    "        return frame, label"
   ]
  },
  {
   "cell_type": "code",
   "execution_count": 3,
   "metadata": {},
   "outputs": [],
   "source": [
    "# Define transformations\n",
    "transform = transforms.Compose([\n",
    "    transforms.ToPILImage(),\n",
    "    transforms.Resize((224, 224)),\n",
    "    transforms.ToTensor(),\n",
    "])"
   ]
  },
  {
   "cell_type": "code",
   "execution_count": 4,
   "metadata": {},
   "outputs": [
    {
     "name": "stderr",
     "output_type": "stream",
     "text": [
      "C:\\Users\\govinda\\AppData\\Roaming\\Python\\Python312\\site-packages\\transformers\\models\\vit\\feature_extraction_vit.py:28: FutureWarning: The class ViTFeatureExtractor is deprecated and will be removed in version 5 of Transformers. Please use ViTImageProcessor instead.\n",
      "  warnings.warn(\n"
     ]
    }
   ],
   "source": [
    "# Initialize ViT feature extractor\n",
    "feature_extractor = ViTFeatureExtractor.from_pretrained(\"google/vit-base-patch16-224\")"
   ]
  },
  {
   "cell_type": "code",
   "execution_count": 5,
   "metadata": {},
   "outputs": [],
   "source": [
    "# Custom function to preprocess and batch images\n",
    "def preprocess_and_batch(frames):\n",
    "    # Convert frames to PIL images and apply transformations\n",
    "    frames = [transform(frame) for frame in frames]\n",
    "    # Batch frames\n",
    "    batch = torch.stack(frames)\n",
    "    return batch"
   ]
  },
  {
   "cell_type": "code",
   "execution_count": 6,
   "metadata": {},
   "outputs": [],
   "source": [
    "# Define dataset paths\n",
    "\n",
    "# datadir = '/content/drive/MyDrive/Deepfake/'\n",
    "datadir = './dataset/'\n",
    "\n",
    "# train_dir = datadir + \"trainnew\"\n",
    "# val_dir = datadir + \"valnew\"\n",
    "# test_dir = datadir + \"testnew\"\n",
    "train_dir = datadir + \"train\"\n",
    "val_dir = datadir + \"val\"\n",
    "test_dir = datadir + \"test\""
   ]
  },
  {
   "cell_type": "code",
   "execution_count": 7,
   "metadata": {},
   "outputs": [
    {
     "name": "stderr",
     "output_type": "stream",
     "text": [
      "Some weights of ViTForImageClassification were not initialized from the model checkpoint at google/vit-base-patch16-224 and are newly initialized because the shapes did not match:\n",
      "- classifier.bias: found shape torch.Size([1000]) in the checkpoint and torch.Size([2]) in the model instantiated\n",
      "- classifier.weight: found shape torch.Size([1000, 768]) in the checkpoint and torch.Size([2, 768]) in the model instantiated\n",
      "You should probably TRAIN this model on a down-stream task to be able to use it for predictions and inference.\n"
     ]
    }
   ],
   "source": [
    "# Create datasets\n",
    "train_dataset = VideoFrameDataset(root_dir=train_dir, transform=transform)\n",
    "val_dataset = VideoFrameDataset(root_dir=val_dir, transform=transform)\n",
    "test_dataset = VideoFrameDataset(root_dir=test_dir, transform=transform)\n",
    "\n",
    "# Create data loaders\n",
    "train_loader = DataLoader(train_dataset, batch_size=32, shuffle=True)\n",
    "val_loader = DataLoader(val_dataset, batch_size=32, shuffle=False)\n",
    "test_loader = DataLoader(test_dataset, batch_size=32, shuffle=False)\n",
    "\n",
    "# Initialize ViT feature extractor and model\n",
    "model = ViTForImageClassification.from_pretrained(\n",
    "    \"google/vit-base-patch16-224\",\n",
    "    num_labels=2,  # Specify the number of classes here\n",
    "    ignore_mismatched_sizes=True  # This will ignore the size mismatch\n",
    ")"
   ]
  },
  {
   "cell_type": "code",
   "execution_count": 8,
   "metadata": {},
   "outputs": [],
   "source": [
    "# Define loss function and optimizer\n",
    "criterion = torch.nn.CrossEntropyLoss()\n",
    "optimizer = torch.optim.Adam(model.parameters(), lr=1e-4)"
   ]
  },
  {
   "cell_type": "code",
   "execution_count": 9,
   "metadata": {},
   "outputs": [
    {
     "name": "stdout",
     "output_type": "stream",
     "text": [
      "Epoch [1/10], Train Accuracy: 49.21875%\n",
      "Epoch [1/10], Validation Accuracy: 50.66225165562914%\n",
      "Best model saved at epoch 1 with validation accuracy: 50.66225165562914%\n",
      "Epoch [1/10], Test Accuracy: 50.16611295681063%\n",
      "Epoch [2/10], Train Accuracy: 46.37784090909091%\n",
      "Epoch [2/10], Validation Accuracy: 50.33112582781457%\n",
      "Epoch [2/10], Test Accuracy: 50.16611295681063%\n",
      "Epoch [3/10], Train Accuracy: 50.92329545454545%\n",
      "Epoch [3/10], Validation Accuracy: 63.57615894039735%\n",
      "Best model saved at epoch 3 with validation accuracy: 63.57615894039735%\n",
      "Epoch [3/10], Test Accuracy: 62.12624584717608%\n",
      "Epoch [4/10], Train Accuracy: 58.16761363636363%\n",
      "Epoch [4/10], Validation Accuracy: 60.59602649006622%\n",
      "Epoch [4/10], Test Accuracy: 59.136212624584715%\n",
      "Epoch [5/10], Train Accuracy: 63.49431818181818%\n",
      "Epoch [5/10], Validation Accuracy: 66.55629139072848%\n",
      "Best model saved at epoch 5 with validation accuracy: 66.55629139072848%\n",
      "Epoch [5/10], Test Accuracy: 61.794019933554814%\n",
      "Epoch [6/10], Train Accuracy: 70.73863636363636%\n",
      "Epoch [6/10], Validation Accuracy: 65.56291390728477%\n",
      "Epoch [6/10], Test Accuracy: 62.458471760797345%\n",
      "Epoch [7/10], Train Accuracy: 78.55113636363636%\n",
      "Epoch [7/10], Validation Accuracy: 63.57615894039735%\n",
      "Epoch [7/10], Test Accuracy: 62.7906976744186%\n",
      "Epoch [8/10], Train Accuracy: 83.02556818181819%\n",
      "Epoch [8/10], Validation Accuracy: 68.21192052980132%\n",
      "Best model saved at epoch 8 with validation accuracy: 68.21192052980132%\n",
      "Epoch [8/10], Test Accuracy: 66.77740863787375%\n",
      "Epoch [9/10], Train Accuracy: 88.35227272727273%\n",
      "Epoch [9/10], Validation Accuracy: 71.8543046357616%\n",
      "Best model saved at epoch 9 with validation accuracy: 71.8543046357616%\n",
      "Epoch [9/10], Test Accuracy: 66.11295681063123%\n",
      "Epoch [10/10], Train Accuracy: 87.92613636363636%\n",
      "Epoch [10/10], Validation Accuracy: 61.920529801324506%\n",
      "Epoch [10/10], Test Accuracy: 62.12624584717608%\n"
     ]
    }
   ],
   "source": [
    "# Variables to store metrics for plotting\n",
    "train_accuracies = []\n",
    "val_accuracies = []\n",
    "test_accuracies = []\n",
    "train_losses = []\n",
    "\n",
    "# Training loop\n",
    "num_epochs = 10\n",
    "best_val_accuracy = 0  # Variable to track the best validation accuracy\n",
    "\n",
    "for epoch in range(num_epochs):\n",
    "    # Training phase\n",
    "    model.train()\n",
    "    train_correct = 0\n",
    "    train_total = 0\n",
    "    running_loss = 0.0\n",
    "    for batch_idx, (frames, labels) in enumerate(train_loader):\n",
    "        optimizer.zero_grad()\n",
    "\n",
    "        # Convert frames to PIL images\n",
    "        frames = [transforms.ToPILImage()(frame) for frame in frames]\n",
    "\n",
    "        # Process frames through feature extractor\n",
    "        inputs = feature_extractor(images=frames, return_tensors=\"pt\").pixel_values.squeeze(1)\n",
    "        outputs = model(inputs).logits\n",
    "\n",
    "        loss = criterion(outputs, labels)\n",
    "        loss.backward()\n",
    "        optimizer.step()\n",
    "\n",
    "        # Accumulate loss and accuracy\n",
    "        running_loss += loss.item()\n",
    "        _, predicted = torch.max(outputs.data, 1)\n",
    "        train_total += labels.size(0)\n",
    "        train_correct += (predicted == labels).sum().item()\n",
    "\n",
    "    train_accuracy = 100 * train_correct / train_total\n",
    "    train_losses.append(running_loss / len(train_loader))\n",
    "    train_accuracies.append(train_accuracy)\n",
    "    print(f'Epoch [{epoch+1}/{num_epochs}], Train Accuracy: {train_accuracy}%')\n",
    "\n",
    "    # Validation phase\n",
    "    model.eval()\n",
    "    val_correct = 0\n",
    "    val_total = 0\n",
    "    with torch.no_grad():\n",
    "        for frames, labels in val_loader:\n",
    "            # Convert frames to PIL images\n",
    "            frames = [transforms.ToPILImage()(frame) for frame in frames]\n",
    "\n",
    "            # Process frames through feature extractor\n",
    "            inputs = feature_extractor(images=frames, return_tensors=\"pt\").pixel_values.squeeze(1)\n",
    "            outputs = model(inputs).logits\n",
    "\n",
    "            # Calculate validation accuracy\n",
    "            _, predicted = torch.max(outputs.data, 1)\n",
    "            val_total += labels.size(0)\n",
    "            val_correct += (predicted == labels).sum().item()\n",
    "\n",
    "    val_accuracy = 100 * val_correct / val_total\n",
    "    val_accuracies.append(val_accuracy)\n",
    "    print(f'Epoch [{epoch+1}/{num_epochs}], Validation Accuracy: {val_accuracy}%')\n",
    "\n",
    "    # Save the model if it has the best validation accuracy so far\n",
    "    if val_accuracy > best_val_accuracy:\n",
    "        best_val_accuracy = val_accuracy\n",
    "        torch.save(model.state_dict(), f\"best_model_epoch_{epoch+1}.pth\")\n",
    "        print(f\"Best model saved at epoch {epoch+1} with validation accuracy: {val_accuracy}%\")\n",
    "\n",
    "    # Test phase\n",
    "    test_correct = 0\n",
    "    test_total = 0\n",
    "    with torch.no_grad():\n",
    "        for frames, labels in test_loader:\n",
    "            # Convert frames to PIL images\n",
    "            frames = [transforms.ToPILImage()(frame) for frame in frames]\n",
    "\n",
    "            # Process frames through feature extractor\n",
    "            inputs = feature_extractor(images=frames, return_tensors=\"pt\").pixel_values.squeeze(1)\n",
    "            outputs = model(inputs).logits\n",
    "\n",
    "            # Calculate test accuracy\n",
    "            _, predicted = torch.max(outputs.data, 1)\n",
    "            test_total += labels.size(0)\n",
    "            test_correct += (predicted == labels).sum().item()\n",
    "\n",
    "    test_accuracy = 100 * test_correct / test_total\n",
    "    test_accuracies.append(test_accuracy)\n",
    "    print(f'Epoch [{epoch+1}/{num_epochs}], Test Accuracy: {test_accuracy}%')"
   ]
  },
  {
   "cell_type": "code",
   "execution_count": 10,
   "metadata": {},
   "outputs": [],
   "source": [
    "# Plot graphs for accuracy and loss\n",
    "epochs = range(1, num_epochs + 1)"
   ]
  },
  {
   "cell_type": "code",
   "execution_count": 11,
   "metadata": {},
   "outputs": [
    {
     "data": {
      "image/png": "[encoded data removed]",
      "text/plain": [
       "<Figure size 1000x500 with 1 Axes>"
      ]
     },
     "metadata": {},
     "output_type": "display_data"
    }
   ],
   "source": [
    "# Plot training loss\n",
    "plt.figure(figsize=(10, 5))\n",
    "plt.plot(epochs, train_losses, label='Training Loss')\n",
    "plt.title('Training Loss Over Epochs')\n",
    "plt.xlabel('Epochs')\n",
    "plt.ylabel('Loss')\n",
    "plt.legend()\n",
    "plt.grid(True)\n",
    "plt.show()"
   ]
  },
  {
   "cell_type": "code",
   "execution_count": 12,
   "metadata": {},
   "outputs": [
    {
     "data": {
      "image/png": "[encoded data removed]",
      "text/plain": [
       "<Figure size 1000x500 with 1 Axes>"
      ]
     },
     "metadata": {},
     "output_type": "display_data"
    }
   ],
   "source": [
    "# Plot accuracies\n",
    "plt.figure(figsize=(10, 5))\n",
    "plt.plot(epochs, train_accuracies, label='Train Accuracy')\n",
    "plt.plot(epochs, val_accuracies, label='Validation Accuracy')\n",
    "plt.plot(epochs, test_accuracies, label='Test Accuracy')\n",
    "plt.title('Accuracy Over Epochs')\n",
    "plt.xlabel('Epochs')\n",
    "plt.ylabel('Accuracy (%)')\n",
    "plt.legend()\n",
    "plt.grid(True)\n",
    "plt.show()"
   ]
  },
  {
   "cell_type": "code",
   "execution_count": 13,
   "metadata": {},
   "outputs": [],
   "source": [
    "# Create a DataFrame for the table\n",
    "results_table = pd.DataFrame({\n",
    "    'Epoch': epochs,\n",
    "    'Training Accuracy (%)': train_accuracies,\n",
    "    'Validation Accuracy (%)': val_accuracies,\n",
    "    'Test Accuracy (%)': test_accuracies,\n",
    "    'Training Loss': train_losses\n",
    "})"
   ]
  },
  {
   "cell_type": "code",
   "execution_count": 14,
   "metadata": {},
   "outputs": [
    {
     "name": "stdout",
     "output_type": "stream",
     "text": [
      "\n",
      "Results Table:\n",
      "   Epoch  Training Accuracy (%)  Validation Accuracy (%)  Test Accuracy (%)  \\\n",
      "0      1              49.218750                50.662252          50.166113   \n",
      "1      2              46.377841                50.331126          50.166113   \n",
      "2      3              50.923295                63.576159          62.126246   \n",
      "3      4              58.167614                60.596026          59.136213   \n",
      "4      5              63.494318                66.556291          61.794020   \n",
      "5      6              70.738636                65.562914          62.458472   \n",
      "6      7              78.551136                63.576159          62.790698   \n",
      "7      8              83.025568                68.211921          66.777409   \n",
      "8      9              88.352273                71.854305          66.112957   \n",
      "9     10              87.926136                61.920530          62.126246   \n",
      "\n",
      "   Training Loss  \n",
      "0       0.738132  \n",
      "1       0.703138  \n",
      "2       0.694440  \n",
      "3       0.680557  \n",
      "4       0.642341  \n",
      "5       0.580220  \n",
      "6       0.443893  \n",
      "7       0.378578  \n",
      "8       0.270380  \n",
      "9       0.254807  \n"
     ]
    }
   ],
   "source": [
    "# Display the results table\n",
    "print(\"\\nResults Table:\")\n",
    "print(results_table)"
   ]
  },
  {
   "cell_type": "code",
   "execution_count": 15,
   "metadata": {},
   "outputs": [
    {
     "name": "stdout",
     "output_type": "stream",
     "text": [
      "Epoch [1/10], Train Accuracy: 92.32954545454545%\n",
      "Epoch [1/10], Validation Accuracy: 68.21192052980132%\n",
      "Best model saved at epoch 1 with validation accuracy: 68.21192052980132%\n",
      "Epoch [1/10], Test Accuracy: 64.78405315614619%\n",
      "Epoch [2/10], Train Accuracy: 93.39488636363636%\n",
      "Epoch [2/10], Validation Accuracy: 65.89403973509934%\n",
      "Epoch [2/10], Test Accuracy: 65.78073089700996%\n",
      "Epoch [3/10], Train Accuracy: 95.5965909090909%\n",
      "Epoch [3/10], Validation Accuracy: 64.90066225165563%\n",
      "Epoch [3/10], Test Accuracy: 62.7906976744186%\n",
      "Epoch [4/10], Train Accuracy: 95.8096590909091%\n",
      "Epoch [4/10], Validation Accuracy: 69.86754966887418%\n",
      "Best model saved at epoch 4 with validation accuracy: 69.86754966887418%\n",
      "Epoch [4/10], Test Accuracy: 67.77408637873754%\n",
      "Epoch [5/10], Train Accuracy: 96.23579545454545%\n",
      "Epoch [5/10], Validation Accuracy: 69.5364238410596%\n",
      "Epoch [5/10], Test Accuracy: 68.43853820598007%\n",
      "Epoch [6/10], Train Accuracy: 96.16477272727273%\n",
      "Epoch [6/10], Validation Accuracy: 67.54966887417218%\n",
      "Epoch [6/10], Test Accuracy: 66.77740863787375%\n",
      "Epoch [7/10], Train Accuracy: 96.875%\n",
      "Epoch [7/10], Validation Accuracy: 70.19867549668874%\n",
      "Best model saved at epoch 7 with validation accuracy: 70.19867549668874%\n",
      "Epoch [7/10], Test Accuracy: 68.77076411960132%\n",
      "Epoch [8/10], Train Accuracy: 97.23011363636364%\n",
      "Epoch [8/10], Validation Accuracy: 67.21854304635761%\n",
      "Epoch [8/10], Test Accuracy: 64.78405315614619%\n",
      "Epoch [9/10], Train Accuracy: 97.58522727272727%\n",
      "Epoch [9/10], Validation Accuracy: 68.54304635761589%\n",
      "Epoch [9/10], Test Accuracy: 67.44186046511628%\n",
      "Epoch [10/10], Train Accuracy: 97.51420454545455%\n",
      "Epoch [10/10], Validation Accuracy: 66.2251655629139%\n",
      "Epoch [10/10], Test Accuracy: 68.10631229235881%\n"
     ]
    }
   ],
   "source": [
    "import torch\n",
    "\n",
    "# Training loop\n",
    "num_epochs = 10\n",
    "best_val_accuracy = 0  # Variable to track the best validation accuracy\n",
    "\n",
    "for epoch in range(num_epochs):\n",
    "    # Training phase\n",
    "    model.train()\n",
    "    train_correct = 0\n",
    "    train_total = 0\n",
    "    for batch_idx, (frames, labels) in enumerate(train_loader):\n",
    "        optimizer.zero_grad()\n",
    "\n",
    "        # Convert frames to PIL images\n",
    "        frames = [transforms.ToPILImage()(frame) for frame in frames]\n",
    "\n",
    "        # Process frames through feature extractor\n",
    "        inputs = feature_extractor(images=frames, return_tensors=\"pt\").pixel_values.squeeze(1)\n",
    "        outputs = model(inputs).logits\n",
    "\n",
    "        loss = criterion(outputs, labels)\n",
    "        loss.backward()\n",
    "        optimizer.step()\n",
    "\n",
    "        # Calculate training accuracy\n",
    "        _, predicted = torch.max(outputs.data, 1)\n",
    "        train_total += labels.size(0)\n",
    "        train_correct += (predicted == labels).sum().item()\n",
    "\n",
    "    train_accuracy = 100 * train_correct / train_total\n",
    "    print(f'Epoch [{epoch+1}/{num_epochs}], Train Accuracy: {train_accuracy}%')\n",
    "\n",
    "    # Validation phase\n",
    "    model.eval()\n",
    "    val_correct = 0\n",
    "    val_total = 0\n",
    "    with torch.no_grad():\n",
    "        for frames, labels in val_loader:\n",
    "            # Convert frames to PIL images\n",
    "            frames = [transforms.ToPILImage()(frame) for frame in frames]\n",
    "\n",
    "            # Process frames through feature extractor\n",
    "            inputs = feature_extractor(images=frames, return_tensors=\"pt\").pixel_values.squeeze(1)\n",
    "            outputs = model(inputs).logits\n",
    "\n",
    "            # Calculate validation accuracy\n",
    "            _, predicted = torch.max(outputs.data, 1)\n",
    "            val_total += labels.size(0)\n",
    "            val_correct += (predicted == labels).sum().item()\n",
    "\n",
    "    val_accuracy = 100 * val_correct / val_total\n",
    "    print(f'Epoch [{epoch+1}/{num_epochs}], Validation Accuracy: {val_accuracy}%')\n",
    "\n",
    "    # Save the model if it has the best validation accuracy so far\n",
    "    if val_accuracy > best_val_accuracy:\n",
    "        best_val_accuracy = val_accuracy\n",
    "        torch.save(model.state_dict(), f\"best_fit_model_epoch_{epoch+1}.pth\")\n",
    "        print(f\"Best model saved at epoch {epoch+1} with validation accuracy: {val_accuracy}%\")\n",
    "\n",
    "    # Test phase\n",
    "    test_correct = 0\n",
    "    test_total = 0\n",
    "    with torch.no_grad():\n",
    "        for frames, labels in test_loader:\n",
    "            # Convert frames to PIL images\n",
    "            frames = [transforms.ToPILImage()(frame) for frame in frames]\n",
    "\n",
    "            # Process frames through feature extractor\n",
    "            inputs = feature_extractor(images=frames, return_tensors=\"pt\").pixel_values.squeeze(1)\n",
    "            outputs = model(inputs).logits\n",
    "\n",
    "            # Calculate test accuracy\n",
    "            _, predicted = torch.max(outputs.data, 1)\n",
    "            test_total += labels.size(0)\n",
    "            test_correct += (predicted == labels).sum().item()\n",
    "\n",
    "    test_accuracy = 100 * test_correct / test_total\n",
    "    print(f'Epoch [{epoch+1}/{num_epochs}], Test Accuracy: {test_accuracy}%')\n"
   ]
  },
  {
   "cell_type": "code",
   "execution_count": 14,
   "metadata": {},
   "outputs": [
    {
     "name": "stdout",
     "output_type": "stream",
     "text": [
      "No GPU available. Training will run on CPU.\n"
     ]
    }
   ],
   "source": [
    "import torch\n",
    "if torch.cuda.is_available():\n",
    "    print(f\"GPU: {torch.cuda.get_device_name(0)} is available.\")\n",
    "else:\n",
    "    print(\"No GPU available. Training will run on CPU.\")"
   ]
  }
 ],
 "metadata": {
  "kernelspec": {
   "display_name": "Python 3",
   "language": "python",
   "name": "python3"
  },
  "language_info": {
   "codemirror_mode": {
    "name": "ipython",
    "version": 3
   },
   "file_extension": ".py",
   "mimetype": "text/x-python",
   "name": "python",
   "nbconvert_exporter": "python",
   "pygments_lexer": "ipython3",
   "version": "3.12.4"
  }
 },
 "nbformat": 4,
 "nbformat_minor": 2
}
