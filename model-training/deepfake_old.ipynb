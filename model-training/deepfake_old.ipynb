{
 "cells": [
  {
   "cell_type": "code",
   "execution_count": 1,
   "metadata": {},
   "outputs": [
    {
     "name": "stderr",
     "output_type": "stream",
     "text": [
      "C:\\Users\\govinda\\AppData\\Roaming\\Python\\Python312\\site-packages\\tqdm\\auto.py:21: TqdmWarning: IProgress not found. Please update jupyter and ipywidgets. See https://ipywidgets.readthedocs.io/en/stable/user_install.html\n",
      "  from .autonotebook import tqdm as notebook_tqdm\n"
     ]
    }
   ],
   "source": [
    "import os\n",
    "import cv2\n",
    "import torch\n",
    "from torchvision import transforms\n",
    "from torch.utils.data import Dataset, DataLoader\n",
    "from transformers import ViTFeatureExtractor, ViTForImageClassification"
   ]
  },
  {
   "cell_type": "code",
   "execution_count": 2,
   "metadata": {},
   "outputs": [],
   "source": [
    "torch.cuda.empty_cache()"
   ]
  },
  {
   "cell_type": "code",
   "execution_count": 3,
   "metadata": {},
   "outputs": [],
   "source": [
    "# Define a custom dataset class\n",
    "class VideoFrameDataset(Dataset):\n",
    "    def __init__(self, root_dir, transform=None):\n",
    "        self.root_dir = root_dir\n",
    "        self.transform = transform\n",
    "        self.frames = []\n",
    "        self.labels = []\n",
    "\n",
    "        # Load data paths and labels\n",
    "        for label, category in enumerate(['original', 'altered']):\n",
    "            category_dir = os.path.join(root_dir, category)\n",
    "            for video_file in os.listdir(category_dir):\n",
    "                video_path = os.path.join(category_dir, video_file)\n",
    "                self.frames.append(video_path)\n",
    "                self.labels.append(label)\n",
    "\n",
    "    def __len__(self):\n",
    "        return len(self.frames)\n",
    "\n",
    "    def __getitem__(self, idx):\n",
    "        # Load video frame\n",
    "        video_path = self.frames[idx]\n",
    "        cap = cv2.VideoCapture(video_path)\n",
    "        ret, frame = cap.read()\n",
    "        cap.release()\n",
    "\n",
    "        if not ret:\n",
    "            raise ValueError(f\"Unable to read frame from {video_path}\")\n",
    "\n",
    "        # Convert BGR to RGB\n",
    "        frame = cv2.cvtColor(frame, cv2.COLOR_BGR2RGB)\n",
    "\n",
    "        # Apply transformations\n",
    "        if self.transform:\n",
    "            frame = self.transform(frame)\n",
    "\n",
    "        label = self.labels[idx]\n",
    "        return frame, label"
   ]
  },
  {
   "cell_type": "code",
   "execution_count": 4,
   "metadata": {},
   "outputs": [],
   "source": [
    "# Define transformations\n",
    "transform = transforms.Compose([\n",
    "    transforms.ToPILImage(),\n",
    "    transforms.Resize((224, 224)),\n",
    "    transforms.ToTensor(),\n",
    "])"
   ]
  },
  {
   "cell_type": "code",
   "execution_count": 5,
   "metadata": {},
   "outputs": [
    {
     "name": "stderr",
     "output_type": "stream",
     "text": [
      "C:\\Users\\govinda\\AppData\\Roaming\\Python\\Python312\\site-packages\\transformers\\models\\vit\\feature_extraction_vit.py:28: FutureWarning: The class ViTFeatureExtractor is deprecated and will be removed in version 5 of Transformers. Please use ViTImageProcessor instead.\n",
      "  warnings.warn(\n"
     ]
    }
   ],
   "source": [
    "# Initialize ViT feature extractor\n",
    "feature_extractor = ViTFeatureExtractor.from_pretrained(\"google/vit-base-patch16-224\")"
   ]
  },
  {
   "cell_type": "code",
   "execution_count": 6,
   "metadata": {},
   "outputs": [],
   "source": [
    "# Custom function to preprocess and batch images\n",
    "def preprocess_and_batch(frames):\n",
    "    # Convert frames to PIL images and apply transformations\n",
    "    frames = [transform(frame) for frame in frames]\n",
    "    # Batch frames\n",
    "    batch = torch.stack(frames)\n",
    "    return batch"
   ]
  },
  {
   "cell_type": "code",
   "execution_count": 7,
   "metadata": {},
   "outputs": [],
   "source": [
    "# Define dataset paths\n",
    "\n",
    "# datadir = '/content/drive/MyDrive/Deepfake/'\n",
    "datadir = './dataset/'\n",
    "\n",
    "# train_dir = datadir + \"trainnew\"\n",
    "# val_dir = datadir + \"valnew\"\n",
    "# test_dir = datadir + \"testnew\"\n",
    "train_dir = datadir + \"train\"\n",
    "val_dir = datadir + \"val\"\n",
    "test_dir = datadir + \"test\""
   ]
  },
  {
   "cell_type": "code",
   "execution_count": 8,
   "metadata": {},
   "outputs": [
    {
     "name": "stderr",
     "output_type": "stream",
     "text": [
      "Some weights of ViTForImageClassification were not initialized from the model checkpoint at google/vit-base-patch16-224 and are newly initialized because the shapes did not match:\n",
      "- classifier.bias: found shape torch.Size([1000]) in the checkpoint and torch.Size([2]) in the model instantiated\n",
      "- classifier.weight: found shape torch.Size([1000, 768]) in the checkpoint and torch.Size([2, 768]) in the model instantiated\n",
      "You should probably TRAIN this model on a down-stream task to be able to use it for predictions and inference.\n"
     ]
    }
   ],
   "source": [
    "# Create datasets\n",
    "train_dataset = VideoFrameDataset(root_dir=train_dir, transform=transform)\n",
    "val_dataset = VideoFrameDataset(root_dir=val_dir, transform=transform)\n",
    "test_dataset = VideoFrameDataset(root_dir=test_dir, transform=transform)\n",
    "\n",
    "# Create data loaders\n",
    "train_loader = DataLoader(train_dataset, batch_size=32, shuffle=True)\n",
    "val_loader = DataLoader(val_dataset, batch_size=32, shuffle=False)\n",
    "test_loader = DataLoader(test_dataset, batch_size=32, shuffle=False)\n",
    "\n",
    "# Initialize ViT feature extractor and model\n",
    "model = ViTForImageClassification.from_pretrained(\n",
    "    \"google/vit-base-patch16-224\",\n",
    "    num_labels=2,  # Specify the number of classes here\n",
    "    ignore_mismatched_sizes=True  # This will ignore the size mismatch\n",
    ")"
   ]
  },
  {
   "cell_type": "code",
   "execution_count": 9,
   "metadata": {},
   "outputs": [],
   "source": [
    "# Define loss function and optimizer\n",
    "criterion = torch.nn.CrossEntropyLoss()\n",
    "optimizer = torch.optim.Adam(model.parameters(), lr=1e-4)"
   ]
  },
  {
   "cell_type": "code",
   "execution_count": 10,
   "metadata": {},
   "outputs": [
    {
     "name": "stdout",
     "output_type": "stream",
     "text": [
      "Epoch [1/10], Batch [1/44], Loss: 0.6924560070037842\n",
      "Epoch [1/10], Batch [11/44], Loss: 0.7323794960975647\n",
      "Epoch [1/10], Batch [21/44], Loss: 0.7128832936286926\n",
      "Epoch [1/10], Batch [31/44], Loss: 0.7148308753967285\n",
      "Epoch [1/10], Batch [41/44], Loss: 0.7348440289497375\n",
      "Accuracy of the model after epoch 1 is: 45.80965909090909%\n",
      "Epoch [2/10], Batch [1/44], Loss: 0.7213559150695801\n",
      "Epoch [2/10], Batch [11/44], Loss: 0.6941457986831665\n",
      "Epoch [2/10], Batch [21/44], Loss: 0.6998175382614136\n",
      "Epoch [2/10], Batch [31/44], Loss: 0.6839178204536438\n",
      "Epoch [2/10], Batch [41/44], Loss: 0.7202833294868469\n",
      "Accuracy of the model after epoch 2 is: 50.28409090909091%\n",
      "Epoch [3/10], Batch [1/44], Loss: 0.6749675869941711\n",
      "Epoch [3/10], Batch [11/44], Loss: 0.6948589086532593\n",
      "Epoch [3/10], Batch [21/44], Loss: 0.6302136778831482\n",
      "Epoch [3/10], Batch [31/44], Loss: 0.6979066133499146\n",
      "Epoch [3/10], Batch [41/44], Loss: 0.7203617691993713\n",
      "Accuracy of the model after epoch 3 is: 58.38068181818182%\n",
      "Epoch [4/10], Batch [1/44], Loss: 0.6275197267532349\n",
      "Epoch [4/10], Batch [11/44], Loss: 0.6267593502998352\n",
      "Epoch [4/10], Batch [21/44], Loss: 0.5362713932991028\n",
      "Epoch [4/10], Batch [31/44], Loss: 0.665477454662323\n",
      "Epoch [4/10], Batch [41/44], Loss: 0.6733527779579163\n",
      "Accuracy of the model after epoch 4 is: 66.33522727272727%\n",
      "Epoch [5/10], Batch [1/44], Loss: 0.5460724830627441\n",
      "Epoch [5/10], Batch [11/44], Loss: 0.617682158946991\n",
      "Epoch [5/10], Batch [21/44], Loss: 0.5994914770126343\n",
      "Epoch [5/10], Batch [31/44], Loss: 0.5656116604804993\n",
      "Epoch [5/10], Batch [41/44], Loss: 0.5817319750785828\n",
      "Accuracy of the model after epoch 5 is: 70.5965909090909%\n",
      "Epoch [6/10], Batch [1/44], Loss: 0.4050048887729645\n",
      "Epoch [6/10], Batch [11/44], Loss: 0.25826987624168396\n",
      "Epoch [6/10], Batch [21/44], Loss: 0.47647255659103394\n",
      "Epoch [6/10], Batch [31/44], Loss: 0.4641023576259613\n",
      "Epoch [6/10], Batch [41/44], Loss: 0.5733818411827087\n",
      "Accuracy of the model after epoch 6 is: 77.48579545454545%\n",
      "Epoch [7/10], Batch [1/44], Loss: 0.40020740032196045\n",
      "Epoch [7/10], Batch [11/44], Loss: 0.24398958683013916\n",
      "Epoch [7/10], Batch [21/44], Loss: 0.14964815974235535\n",
      "Epoch [7/10], Batch [31/44], Loss: 0.4842206835746765\n",
      "Epoch [7/10], Batch [41/44], Loss: 0.4013036787509918\n",
      "Accuracy of the model after epoch 7 is: 84.51704545454545%\n",
      "Epoch [8/10], Batch [1/44], Loss: 0.23838189244270325\n",
      "Epoch [8/10], Batch [11/44], Loss: 0.3042941093444824\n",
      "Epoch [8/10], Batch [21/44], Loss: 0.5813212990760803\n",
      "Epoch [8/10], Batch [31/44], Loss: 0.3099573254585266\n",
      "Epoch [8/10], Batch [41/44], Loss: 0.2807789146900177\n",
      "Accuracy of the model after epoch 8 is: 86.4346590909091%\n",
      "Epoch [9/10], Batch [1/44], Loss: 0.1658208668231964\n",
      "Epoch [9/10], Batch [11/44], Loss: 0.25164979696273804\n",
      "Epoch [9/10], Batch [21/44], Loss: 0.27398931980133057\n",
      "Epoch [9/10], Batch [31/44], Loss: 0.24515700340270996\n",
      "Epoch [9/10], Batch [41/44], Loss: 0.3685923218727112\n",
      "Accuracy of the model after epoch 9 is: 88.99147727272727%\n",
      "Epoch [10/10], Batch [1/44], Loss: 0.11170996725559235\n",
      "Epoch [10/10], Batch [11/44], Loss: 0.09631651639938354\n",
      "Epoch [10/10], Batch [21/44], Loss: 0.09518620371818542\n",
      "Epoch [10/10], Batch [31/44], Loss: 0.18267272412776947\n",
      "Epoch [10/10], Batch [41/44], Loss: 0.1779482066631317\n",
      "Accuracy of the model after epoch 10 is: 92.61363636363636%\n"
     ]
    }
   ],
   "source": [
    "# Training loop\n",
    "num_epochs = 10\n",
    "for epoch in range(num_epochs):\n",
    "    model.train()\n",
    "    correct = 0\n",
    "    total = 0\n",
    "    model.train()\n",
    "    for batch_idx, (frames, labels) in enumerate(train_loader):\n",
    "        optimizer.zero_grad()\n",
    "\n",
    "        # Convert frames to PIL images\n",
    "        frames = [transforms.ToPILImage()(frame) for frame in frames]\n",
    "\n",
    "        # Process frames through feature extractor\n",
    "\n",
    "        inputs = feature_extractor(images=frames, return_tensors=\"pt\").pixel_values.squeeze(1)\n",
    "        outputs = model(inputs).logits\n",
    "\n",
    "        loss = criterion(outputs, labels)\n",
    "        loss.backward()\n",
    "        optimizer.step()\n",
    "\n",
    "        # Calculate accuracy\n",
    "        _, predicted = torch.max(outputs.data, 1)\n",
    "        total += labels.size(0)\n",
    "        correct += (predicted == labels).sum().item()\n",
    "\n",
    "        if batch_idx % 10 == 0:\n",
    "            print(f\"Epoch [{epoch+1}/{num_epochs}], Batch [{batch_idx+1}/{len(train_loader)}], Loss: {loss.item()}\")\n",
    "\n",
    "    # Print accuracy after each epoch\n",
    "    accuracy = 100 * correct / total\n",
    "    print(f'Accuracy of the model after epoch {epoch+1} is: {accuracy}%')"
   ]
  },
  {
   "cell_type": "code",
   "execution_count": 11,
   "metadata": {},
   "outputs": [
    {
     "name": "stdout",
     "output_type": "stream",
     "text": [
      "Epoch [1/10], Train Accuracy: 93.67897727272727%\n",
      "Epoch [1/10], Validation Accuracy: 65.56291390728477%\n",
      "Best model saved at epoch 1 with validation accuracy: 65.56291390728477%\n",
      "Epoch [1/10], Test Accuracy: 64.78405315614619%\n",
      "Epoch [2/10], Train Accuracy: 94.74431818181819%\n",
      "Epoch [2/10], Validation Accuracy: 69.86754966887418%\n",
      "Best model saved at epoch 2 with validation accuracy: 69.86754966887418%\n",
      "Epoch [2/10], Test Accuracy: 65.4485049833887%\n",
      "Epoch [3/10], Train Accuracy: 94.38920454545455%\n",
      "Epoch [3/10], Validation Accuracy: 67.21854304635761%\n",
      "Epoch [3/10], Test Accuracy: 62.458471760797345%\n",
      "Epoch [4/10], Train Accuracy: 96.5909090909091%\n",
      "Epoch [4/10], Validation Accuracy: 69.5364238410596%\n",
      "Epoch [4/10], Test Accuracy: 65.4485049833887%\n",
      "Epoch [5/10], Train Accuracy: 97.51420454545455%\n",
      "Epoch [5/10], Validation Accuracy: 68.54304635761589%\n",
      "Epoch [5/10], Test Accuracy: 64.45182724252491%\n",
      "Epoch [6/10], Train Accuracy: 96.73295454545455%\n",
      "Epoch [6/10], Validation Accuracy: 67.54966887417218%\n",
      "Epoch [6/10], Test Accuracy: 64.11960132890366%\n",
      "Epoch [7/10], Train Accuracy: 97.51420454545455%\n",
      "Epoch [7/10], Validation Accuracy: 65.56291390728477%\n",
      "Epoch [7/10], Test Accuracy: 66.11295681063123%\n",
      "Epoch [8/10], Train Accuracy: 97.51420454545455%\n",
      "Epoch [8/10], Validation Accuracy: 66.55629139072848%\n",
      "Epoch [8/10], Test Accuracy: 63.45514950166113%\n",
      "Epoch [9/10], Train Accuracy: 97.86931818181819%\n",
      "Epoch [9/10], Validation Accuracy: 67.21854304635761%\n",
      "Epoch [9/10], Test Accuracy: 65.11627906976744%\n",
      "Epoch [10/10], Train Accuracy: 97.79829545454545%\n",
      "Epoch [10/10], Validation Accuracy: 69.86754966887418%\n",
      "Epoch [10/10], Test Accuracy: 65.11627906976744%\n"
     ]
    }
   ],
   "source": [
    "import torch\n",
    "\n",
    "# Training loop\n",
    "num_epochs = 10\n",
    "best_val_accuracy = 0  # Variable to track the best validation accuracy\n",
    "\n",
    "for epoch in range(num_epochs):\n",
    "    # Training phase\n",
    "    model.train()\n",
    "    train_correct = 0\n",
    "    train_total = 0\n",
    "    for batch_idx, (frames, labels) in enumerate(train_loader):\n",
    "        optimizer.zero_grad()\n",
    "\n",
    "        # Convert frames to PIL images\n",
    "        frames = [transforms.ToPILImage()(frame) for frame in frames]\n",
    "\n",
    "        # Process frames through feature extractor\n",
    "        inputs = feature_extractor(images=frames, return_tensors=\"pt\").pixel_values.squeeze(1)\n",
    "        outputs = model(inputs).logits\n",
    "\n",
    "        loss = criterion(outputs, labels)\n",
    "        loss.backward()\n",
    "        optimizer.step()\n",
    "\n",
    "        # Calculate training accuracy\n",
    "        _, predicted = torch.max(outputs.data, 1)\n",
    "        train_total += labels.size(0)\n",
    "        train_correct += (predicted == labels).sum().item()\n",
    "\n",
    "    train_accuracy = 100 * train_correct / train_total\n",
    "    print(f'Epoch [{epoch+1}/{num_epochs}], Train Accuracy: {train_accuracy}%')\n",
    "\n",
    "    # Validation phase\n",
    "    model.eval()\n",
    "    val_correct = 0\n",
    "    val_total = 0\n",
    "    with torch.no_grad():\n",
    "        for frames, labels in val_loader:\n",
    "            # Convert frames to PIL images\n",
    "            frames = [transforms.ToPILImage()(frame) for frame in frames]\n",
    "\n",
    "            # Process frames through feature extractor\n",
    "            inputs = feature_extractor(images=frames, return_tensors=\"pt\").pixel_values.squeeze(1)\n",
    "            outputs = model(inputs).logits\n",
    "\n",
    "            # Calculate validation accuracy\n",
    "            _, predicted = torch.max(outputs.data, 1)\n",
    "            val_total += labels.size(0)\n",
    "            val_correct += (predicted == labels).sum().item()\n",
    "\n",
    "    val_accuracy = 100 * val_correct / val_total\n",
    "    print(f'Epoch [{epoch+1}/{num_epochs}], Validation Accuracy: {val_accuracy}%')\n",
    "\n",
    "    # Save the model if it has the best validation accuracy so far\n",
    "    if val_accuracy > best_val_accuracy:\n",
    "        best_val_accuracy = val_accuracy\n",
    "        torch.save(model.state_dict(), f\"best_model_epoch_{epoch+1}.pth\")\n",
    "        print(f\"Best model saved at epoch {epoch+1} with validation accuracy: {val_accuracy}%\")\n",
    "\n",
    "    # Test phase\n",
    "    test_correct = 0\n",
    "    test_total = 0\n",
    "    with torch.no_grad():\n",
    "        for frames, labels in test_loader:\n",
    "            # Convert frames to PIL images\n",
    "            frames = [transforms.ToPILImage()(frame) for frame in frames]\n",
    "\n",
    "            # Process frames through feature extractor\n",
    "            inputs = feature_extractor(images=frames, return_tensors=\"pt\").pixel_values.squeeze(1)\n",
    "            outputs = model(inputs).logits\n",
    "\n",
    "            # Calculate test accuracy\n",
    "            _, predicted = torch.max(outputs.data, 1)\n",
    "            test_total += labels.size(0)\n",
    "            test_correct += (predicted == labels).sum().item()\n",
    "\n",
    "    test_accuracy = 100 * test_correct / test_total\n",
    "    print(f'Epoch [{epoch+1}/{num_epochs}], Test Accuracy: {test_accuracy}%')\n"
   ]
  },
  {
   "cell_type": "code",
   "execution_count": 14,
   "metadata": {},
   "outputs": [
    {
     "name": "stdout",
     "output_type": "stream",
     "text": [
      "No GPU available. Training will run on CPU.\n"
     ]
    }
   ],
   "source": [
    "import torch\n",
    "if torch.cuda.is_available():\n",
    "    print(f\"GPU: {torch.cuda.get_device_name(0)} is available.\")\n",
    "else:\n",
    "    print(\"No GPU available. Training will run on CPU.\")"
   ]
  }
 ],
 "metadata": {
  "kernelspec": {
   "display_name": "Python 3",
   "language": "python",
   "name": "python3"
  },
  "language_info": {
   "codemirror_mode": {
    "name": "ipython",
    "version": 3
   },
   "file_extension": ".py",
   "mimetype": "text/x-python",
   "name": "python",
   "nbconvert_exporter": "python",
   "pygments_lexer": "ipython3",
   "version": "3.12.4"
  }
 },
 "nbformat": 4,
 "nbformat_minor": 2
}
